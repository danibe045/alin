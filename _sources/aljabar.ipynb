{
 "cells": [
  {
   "cell_type": "markdown",
   "metadata": {},
   "source": [
    "# Aljabar"
   ]
  },
  {
   "cell_type": "markdown",
   "metadata": {},
   "source": [
    "### Pengertian :  \n",
    "Aljabar"
   ]
  },
  {
   "cell_type": "code",
   "execution_count": 1,
   "metadata": {},
   "outputs": [
    {
     "name": "stdout",
     "output_type": "stream",
     "text": [
      "[[1 2 3]\n",
      " [3 4 5]\n",
      " [5 6 7]]\n",
      "[[4 5 6]\n",
      " [8 3 7]\n",
      " [2 9 1]]\n",
      "[[5 4 9]\n",
      " [5 1 2]]\n",
      "[[1 7 4]\n",
      " [1 3 5]\n",
      " [7 8 9]]\n"
     ]
    },
    {
     "data": {
      "text/plain": [
       "(2, 3)"
      ]
     },
     "execution_count": 1,
     "metadata": {},
     "output_type": "execute_result"
    }
   ],
   "source": [
    "import numpy as np\n",
    "#Membuat matriks\n",
    "A = np.array([[1, 2, 3],[3, 4, 5],[5, 6, 7]])\n",
    "B = np.array([[4, 5, 6],[8, 3, 7],[2, 9, 1]])\n",
    "C = np.array([[5, 4, 9],[5, 1, 2]])\n",
    "D = np.array([[1, 7, 4],[1, 3, 5],[7, 8, 9]])\n",
    "\n",
    "print(A)\n",
    "print(B)\n",
    "print(C)\n",
    "print(D)\n",
    "#untuk mengetahui ukuran matriks\n",
    "C.shape"
   ]
  },
  {
   "cell_type": "code",
   "execution_count": null,
   "metadata": {},
   "outputs": [],
   "source": [
    "#Operasi2 Matriks\n",
    "c = 2\n",
    "d = 4\n",
    "G = (c+d)*A\n",
    "H = (c*A)+(d*A)\n",
    "print(G)\n",
    "print(H)"
   ]
  },
  {
   "cell_type": "code",
   "execution_count": null,
   "metadata": {},
   "outputs": [],
   "source": [
    "#Matriks Transpose\n",
    "C_T = C.transpose()\n",
    "Cov = C@C_T\n",
    "print(C)\n",
    "print(C_T)\n",
    "print(Cov)\n",
    "Cov.shape"
   ]
  },
  {
   "cell_type": "code",
   "execution_count": null,
   "metadata": {},
   "outputs": [],
   "source": [
    "#membuat matriik\n",
    "A = np.random.randint(10,size=(3,3))\n",
    "print(A)"
   ]
  }
 ],
 "metadata": {
  "kernelspec": {
   "display_name": "Python 3 (ipykernel)",
   "language": "python",
   "name": "python3"
  },
  "language_info": {
   "codemirror_mode": {
    "name": "ipython",
    "version": 3
   },
   "file_extension": ".py",
   "mimetype": "text/x-python",
   "name": "python",
   "nbconvert_exporter": "python",
   "pygments_lexer": "ipython3",
   "version": "3.10.13"
  }
 },
 "nbformat": 4,
 "nbformat_minor": 2
}
